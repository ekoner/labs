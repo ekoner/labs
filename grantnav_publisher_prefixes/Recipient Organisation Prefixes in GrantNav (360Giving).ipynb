{
 "cells": [
  {
   "cell_type": "markdown",
   "metadata": {},
   "source": [
    "# How are organisations identified in 360Giving's GrantNav? \n",
    "\n",
    "**Author**: Edafe Onerhime\n",
    "\n",
    "**Last Updated**: 2017-07-11\n",
    "\n",
    "**Description**:  Analyses the organisation id's used in [GrantNav](http://grantnav.threesixtygiving.org) using the prefixes in the **Recipient Org: Identifier** field.\n",
    "\n",
    "**Contents**: This Jupyter Notebook, data folder\n",
    "\n",
    "## About\n",
    "\n",
    "This is an experiment to understand how funding organisations talk about the recipients of their grants by analysing the identifiers they provide for them. \n",
    "\n",
    "\n",
    "**Why identifiers matter**\n",
    "\n",
    "Identifiers are an important part of any dataset. They let a computer uniquely identify and refer to specific grants, organisations, transactions and so-on. \n",
    "\n",
    "Whilst a human being may be good at recognising that:\n",
    "\n",
    ">INDIGO TRUST, The Indigo Trust, and indigo-trust\n",
    "\n",
    "... all refer to the same organisation, computers find this a lot trickier.\n",
    "\n",
    "Identifiers can be valuable for joining up pools of information and improving the quality of the information we hold.\n",
    "\n",
    "**What will this analysis tell us?**\n",
    "\n",
    "We can better understand what identifiers publishers prefer, if we should provide some interventions and where to target our efforts.\n",
    "\n",
    "For example, do publishers prefer their own internal reference? Can we understand why? Do publishers prefer charity numbers over company numbers? How can we support them while making the information more widely useful?\n",
    "\n",
    "## Instructions\n",
    "\n",
    "\n",
    "## Things to note\n",
    "\n",
    "\n",
    "## Things to do\n",
    "\n"
   ]
  },
  {
   "cell_type": "code",
   "execution_count": 38,
   "metadata": {
    "collapsed": true
   },
   "outputs": [],
   "source": [
    "import os.path\n",
    "import pandas as pd\n",
    "from urllib.request import urlretrieve"
   ]
  },
  {
   "cell_type": "code",
   "execution_count": 39,
   "metadata": {},
   "outputs": [],
   "source": [
    "fileDetails = {'grantnav.csv': 'http://grantnav.threesixtygiving.org/search.csv', \n",
    "               'org-id.csv': 'http://org-id.guide/download.csv',\n",
    "               'country-codes.csv': 'https://raw.githubusercontent.com/datasets/country-codes/master/data/country-codes.csv'}\n",
    "\n",
    "excludeFunders = ['360G-blf'] # Excludes any Funding Org:Identifier listed\n",
    "excludeText = ''\n",
    "if len(excludeFunders) > 0:\n",
    "    excludeText = '_excludes_'+'-'.join(excludeFunders)\n",
    "    \n",
    "outputFileName = 'grantnav_recipient_prefix' + excludeText + '.csv'"
   ]
  },
  {
   "cell_type": "code",
   "execution_count": 40,
   "metadata": {},
   "outputs": [
    {
     "name": "stdout",
     "output_type": "stream",
     "text": [
      "Checking for: country-codes.csv\n",
      "Checking for: org-id.csv\n",
      "Checking for: grantnav.csv\n"
     ]
    }
   ],
   "source": [
    "# Get GrantNav and Org-Id files\n",
    "for fname in fileDetails:\n",
    "    print('Checking for:',fname)\n",
    "    if not os.path.isfile(fname):\n",
    "        print('Downloading:',fname)\n",
    "        urlretrieve(fileDetails[fname], fname)\n",
    "        "
   ]
  },
  {
   "cell_type": "code",
   "execution_count": 41,
   "metadata": {
    "collapsed": true
   },
   "outputs": [],
   "source": [
    "# =======================\n",
    "# Process GrantNav data\n",
    "# =======================\n",
    "\n",
    "# Load files\n",
    "dfGN = pd.read_csv('grantnav.csv',usecols=['Recipient Org:Identifier','Funding Org:Identifier'])\n",
    "\n",
    "# Remove excluded funders\n",
    "if len(excludeFunders) > 0:\n",
    "    dfGN = dfGN[~dfGN['Funding Org:Identifier'].isin(excludeFunders)]\n",
    "    \n",
    "# Split column \n",
    "# (Replace anything containing 360G with 360G- to group all publisher-own prefixes)\n",
    "dfGN.loc[dfGN['Recipient Org:Identifier'].str.contains('360G'), 'Recipient Org:Identifier'] = '360G'\n",
    "dfGN = pd.DataFrame(dfGN['Recipient Org:Identifier'].str.split('-',2).tolist(),columns = ['split1','split2','discard']).fillna('')\n",
    "dfGN['code'] = dfGN['split1']+'-'+dfGN['split2']\n",
    "dfGN = dfGN[['code']]\n",
    "dfGN['code'] = dfGN.code.str.strip('-')\n",
    "dfGN = pd.DataFrame({'count' : dfGN.groupby( ['code'] ).size()}).reset_index()"
   ]
  },
  {
   "cell_type": "code",
   "execution_count": 42,
   "metadata": {
    "collapsed": true
   },
   "outputs": [],
   "source": [
    "# =======================\n",
    "# Process GrantNav data\n",
    "# =======================\n",
    "\n",
    "# Load files\n",
    "dfOID = pd.read_csv('org-id.csv',usecols=['code', 'quality', \"name/en\",'coverage','structure'])\n",
    "dfOID.rename(columns={\"name/en\": 'name','coverage': 'country_code'}, inplace=True)"
   ]
  },
  {
   "cell_type": "code",
   "execution_count": 43,
   "metadata": {},
   "outputs": [],
   "source": [
    "# =====================\n",
    "# Process country codes\n",
    "# =====================\n",
    "\n",
    "dfCC = pd.read_csv('country-codes.csv',usecols={'name','ISO3166-1-Alpha-2'})\n",
    "dfCC.rename(columns={'name': 'country','ISO3166-1-Alpha-2': 'country_code'}, inplace=True)"
   ]
  },
  {
   "cell_type": "code",
   "execution_count": 44,
   "metadata": {},
   "outputs": [],
   "source": [
    "# ========================\n",
    "# Merge & export datasets\n",
    "# ========================\n",
    "\n",
    "df = pd.merge(dfGN, dfOID, how='left', on=['code'])\n",
    "df = pd.merge(df, dfCC.dropna(), how='left', on=['country_code'])\n",
    "df.loc[df['code'].str.contains('360G'), 'name'] = \"Publisher's internal reference\"\n",
    "df[['code','name','country_code','country','structure','count','quality']].fillna('').to_csv(outputFileName,index=False)"
   ]
  },
  {
   "cell_type": "code",
   "execution_count": null,
   "metadata": {
    "collapsed": true
   },
   "outputs": [],
   "source": []
  }
 ],
 "metadata": {
  "kernelspec": {
   "display_name": "Python [default]",
   "language": "python",
   "name": "python3"
  },
  "language_info": {
   "codemirror_mode": {
    "name": "ipython",
    "version": 3
   },
   "file_extension": ".py",
   "mimetype": "text/x-python",
   "name": "python",
   "nbconvert_exporter": "python",
   "pygments_lexer": "ipython3",
   "version": "3.5.3"
  }
 },
 "nbformat": 4,
 "nbformat_minor": 2
}
